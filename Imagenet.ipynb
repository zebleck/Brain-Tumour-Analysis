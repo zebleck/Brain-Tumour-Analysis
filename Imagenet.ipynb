{
 "cells": [
  {
   "cell_type": "code",
   "execution_count": 3,
   "metadata": {},
   "outputs": [
    {
     "name": "stdout",
     "output_type": "stream",
     "text": [
      "tensor([[27.9808, 25.2350, 11.8262,  3.8008,  3.0933]],\n",
      "       grad_fn=<TopkBackward0>)\n",
      "ice_cream: 27.98%\n",
      "trifle: 25.24%\n",
      "chocolate_sauce: 11.83%\n",
      "eggnog: 3.80%\n",
      "ladle: 3.09%\n"
     ]
    }
   ],
   "source": [
    "from urllib.request import urlopen\n",
    "from PIL import Image\n",
    "import timm\n",
    "import torch\n",
    "import json\n",
    "import urllib.request\n",
    "from torchvision import models, transforms\n",
    "\n",
    "img = Image.open(urlopen(\n",
    "    'https://huggingface.co/datasets/huggingface/documentation-images/resolve/main/beignets-task-guide.png'\n",
    "))\n",
    "\n",
    "model_path = \"./vgg19.tv_in1k/pytorch_model.bin\"\n",
    "state_dict = torch.load(model_path, map_location=torch.device('cpu'))#timm.create_model('vgg19', pretrained=True)\n",
    "\n",
    "model = timm.create_model('vgg19', pretrained=False)\n",
    "model.load_state_dict(state_dict)\n",
    "model = model.eval()\n",
    "\n",
    "# get model specific transforms (normalization, resize)\n",
    "data_config = timm.data.resolve_model_data_config(model)\n",
    "transforms = timm.data.create_transform(**data_config, is_training=False)\n",
    "\n",
    "output = model(transforms(img).unsqueeze(0))  # unsqueeze single image into batch of 1\n",
    "\n",
    "top5_probabilities, top5_class_indices = torch.topk(output.softmax(dim=1) * 100, k=5)\n",
    "print(top5_probabilities)\n",
    "\n",
    "\n",
    "# Load the ImageNet class index\n",
    "url = \"https://s3.amazonaws.com/deep-learning-models/image-models/imagenet_class_index.json\"\n",
    "class_index = json.loads(urllib.request.urlopen(url).read().decode())\n",
    "\n",
    "# Get the top 5 class indices and probabilities\n",
    "top5_class_indices = top5_class_indices.squeeze().tolist()\n",
    "top5_probabilities = top5_probabilities.squeeze().tolist()\n",
    "\n",
    "# Print the top 5 class labels and probabilities\n",
    "for i in range(5):\n",
    "    class_index_str = class_index[str(top5_class_indices[i])]\n",
    "    class_label = class_index_str[1]\n",
    "    print(f\"{class_label}: {top5_probabilities[i]:.2f}%\")"
   ]
  }
 ],
 "metadata": {
  "kernelspec": {
   "display_name": "ai",
   "language": "python",
   "name": "python3"
  },
  "language_info": {
   "codemirror_mode": {
    "name": "ipython",
    "version": 3
   },
   "file_extension": ".py",
   "mimetype": "text/x-python",
   "name": "python",
   "nbconvert_exporter": "python",
   "pygments_lexer": "ipython3",
   "version": "3.8.13"
  },
  "orig_nbformat": 4
 },
 "nbformat": 4,
 "nbformat_minor": 2
}
